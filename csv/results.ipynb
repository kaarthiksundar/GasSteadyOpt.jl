{
 "cells": [
  {
   "cell_type": "code",
   "execution_count": 1,
   "id": "fecf1bef",
   "metadata": {},
   "outputs": [],
   "source": [
    "import pandas as pd"
   ]
  },
  {
   "cell_type": "code",
   "execution_count": 2,
   "id": "f6c8da4f",
   "metadata": {},
   "outputs": [],
   "source": [
    "success134 = pd.read_csv(\"GasLib-134-success.csv\")"
   ]
  },
  {
   "cell_type": "code",
   "execution_count": 34,
   "id": "cdd473fb",
   "metadata": {},
   "outputs": [],
   "source": [
    "def PrintStatistics(col):\n",
    "    minimum = col.min()\n",
    "    maximum = col.max()\n",
    "    average = col.mean() \n",
    "    stddev = col.std() \n",
    "    print(' minimum: {}\\n maximum: {}\\n mean: {:.2f}\\n stddev: {:.2f}'.format(minimum, maximum, average, stddev))"
   ]
  },
  {
   "cell_type": "code",
   "execution_count": 20,
   "id": "badda5b6",
   "metadata": {},
   "outputs": [
    {
     "name": "stdout",
     "output_type": "stream",
     "text": [
      " minimum: 0.01\n",
      " maximum: 0.12\n",
      " mean: 0.05\n",
      " stddev: 0.01\n"
     ]
    }
   ],
   "source": [
    "PrintStatistics(success134['minlp_time'])"
   ]
  },
  {
   "cell_type": "code",
   "execution_count": 21,
   "id": "c47242cd",
   "metadata": {},
   "outputs": [
    {
     "name": "stdout",
     "output_type": "stream",
     "text": [
      " minimum: 0.02\n",
      " maximum: 0.55\n",
      " mean: 0.02\n",
      " stddev: 0.02\n"
     ]
    }
   ],
   "source": [
    "PrintStatistics(success134['misoc_time'])"
   ]
  },
  {
   "cell_type": "code",
   "execution_count": 22,
   "id": "cb0ec0d2",
   "metadata": {},
   "outputs": [
    {
     "name": "stdout",
     "output_type": "stream",
     "text": [
      " minimum: 0.02\n",
      " maximum: 0.06\n",
      " mean: 0.02\n",
      " stddev: 0.01\n"
     ]
    }
   ],
   "source": [
    "PrintStatistics(success134['lp_time'])"
   ]
  },
  {
   "cell_type": "code",
   "execution_count": 23,
   "id": "bec8fd49",
   "metadata": {},
   "outputs": [
    {
     "name": "stdout",
     "output_type": "stream",
     "text": [
      " minimum: 0.0\n",
      " maximum: 0.0\n",
      " mean: 0.00\n",
      " stddev: 0.00\n"
     ]
    }
   ],
   "source": [
    "PrintStatistics(success134['lp_gap'])"
   ]
  },
  {
   "cell_type": "code",
   "execution_count": 24,
   "id": "63080af9",
   "metadata": {},
   "outputs": [
    {
     "name": "stdout",
     "output_type": "stream",
     "text": [
      " minimum: 0.0\n",
      " maximum: 0.0\n",
      " mean: 0.00\n",
      " stddev: 0.00\n"
     ]
    }
   ],
   "source": [
    "PrintStatistics(success134['misoc_gap'])"
   ]
  },
  {
   "cell_type": "code",
   "execution_count": 121,
   "id": "a83a1fba",
   "metadata": {},
   "outputs": [
    {
     "name": "stdout",
     "output_type": "stream",
     "text": [
      "MISOC Opt: 4212, LP Opt: 4196\n",
      "1% MISOC Opt: 4215, 1% LP Opt: 4215\n"
     ]
    }
   ],
   "source": [
    "success582 = pd.read_csv(\"GasLib-582-success.csv\")\n",
    "misoc_opt = success582.loc[success582['misoc_gap'] == 0.0]\n",
    "success582 = pd.read_csv(\"GasLib-582-success.csv\") \n",
    "lp_opt = success582.loc[success582['lp_gap'] == 0.0]\n",
    "print('MISOC Opt: {}, LP Opt: {}'.format(misoc_opt.shape[0], lp_opt.shape[0]))\n",
    "success582 = pd.read_csv(\"GasLib-582-success.csv\")\n",
    "misoc_opt_1 = success582.loc[success582['misoc_gap'] < 1.0]\n",
    "success582 = pd.read_csv(\"GasLib-582-success.csv\") \n",
    "lp_opt_1 = success582.loc[success582['lp_gap'] < 1.0]\n",
    "print('1% MISOC Opt: {}, 1% LP Opt: {}'.format(misoc_opt_1.shape[0], lp_opt_1.shape[0]))"
   ]
  },
  {
   "cell_type": "code",
   "execution_count": 26,
   "id": "595bba83",
   "metadata": {},
   "outputs": [
    {
     "name": "stdout",
     "output_type": "stream",
     "text": [
      " minimum: 0.26\n",
      " maximum: 667.35\n",
      " mean: 8.16\n",
      " stddev: 22.27\n"
     ]
    }
   ],
   "source": [
    "PrintStatistics(success582['minlp_time'])"
   ]
  },
  {
   "cell_type": "code",
   "execution_count": 27,
   "id": "359c06e2",
   "metadata": {},
   "outputs": [
    {
     "name": "stdout",
     "output_type": "stream",
     "text": [
      " minimum: 0.12\n",
      " maximum: 5.36\n",
      " mean: 0.36\n",
      " stddev: 0.15\n"
     ]
    }
   ],
   "source": [
    "PrintStatistics(success582['misoc_time'])"
   ]
  },
  {
   "cell_type": "code",
   "execution_count": 28,
   "id": "801ae3bf",
   "metadata": {},
   "outputs": [
    {
     "name": "stdout",
     "output_type": "stream",
     "text": [
      " minimum: 0.15\n",
      " maximum: 0.44\n",
      " mean: 0.25\n",
      " stddev: 0.06\n"
     ]
    }
   ],
   "source": [
    "PrintStatistics(success582['lp_time'])"
   ]
  },
  {
   "cell_type": "code",
   "execution_count": 35,
   "id": "b11052b0",
   "metadata": {},
   "outputs": [
    {
     "name": "stdout",
     "output_type": "stream",
     "text": [
      " minimum: 0.0\n",
      " maximum: 0.0061143439700489\n",
      " mean: 0.00\n",
      " stddev: 0.00\n"
     ]
    }
   ],
   "source": [
    "PrintStatistics(success582['misoc_gap'])"
   ]
  },
  {
   "cell_type": "code",
   "execution_count": 36,
   "id": "d571d7d4",
   "metadata": {},
   "outputs": [
    {
     "name": "stdout",
     "output_type": "stream",
     "text": [
      " minimum: 0.0\n",
      " maximum: 0.0097763188591935\n",
      " mean: 0.00\n",
      " stddev: 0.00\n"
     ]
    }
   ],
   "source": [
    "PrintStatistics(success582['lp_gap'])"
   ]
  },
  {
   "cell_type": "code",
   "execution_count": 39,
   "id": "e3d600c3",
   "metadata": {},
   "outputs": [
    {
     "name": "stdout",
     "output_type": "stream",
     "text": [
      "4196\n"
     ]
    }
   ],
   "source": [
    "count_lp_opt = (success582['lp_gap']  == 0).sum()\n",
    "print(count_lp_opt)"
   ]
  },
  {
   "cell_type": "code",
   "execution_count": 40,
   "id": "08a29f7b",
   "metadata": {},
   "outputs": [
    {
     "name": "stdout",
     "output_type": "stream",
     "text": [
      "4212\n"
     ]
    }
   ],
   "source": [
    "count_misoc_opt = (success582['misoc_gap']  == 0).sum()\n",
    "print(count_misoc_opt)"
   ]
  },
  {
   "cell_type": "code",
   "execution_count": 77,
   "id": "3ffbb229",
   "metadata": {},
   "outputs": [
    {
     "name": "stdout",
     "output_type": "stream",
     "text": [
      "MINLP success: 2225\n",
      "MINLP infeasible: 68\n",
      "MINLP TO: 561\n",
      "MINLP error: 5\n"
     ]
    }
   ],
   "source": [
    "success4197 = pd.read_csv(\"GasLib-4197-success.csv\")\n",
    "num_instances = 2859\n",
    "minlp_success = success4197['minlp_time'].size\n",
    "minlp_infeasible = pd.read_csv(\"GasLib-4197-minlp-infeasible.csv\")['minlp_solve_time'].size \n",
    "minlp_to = pd.read_csv('GasLib-4197-time-limit.csv')['minlp_time'].size \n",
    "minlp_err = pd.read_csv('GasLib-4197-scip-error.csv', header=None).size \n",
    "print('MINLP success: {}'.format(minlp_success))\n",
    "print('MINLP infeasible: {}'.format(minlp_infeasible))\n",
    "print('MINLP TO: {}'.format(minlp_to))\n",
    "print('MINLP error: {}'.format(minlp_err))\n",
    "assert(minlp_success + minlp_infeasible + minlp_to + minlp_err == num_instances)"
   ]
  },
  {
   "cell_type": "code",
   "execution_count": 87,
   "id": "1d9f3308",
   "metadata": {},
   "outputs": [
    {
     "name": "stdout",
     "output_type": "stream",
     "text": [
      "MISOC success: 2656\n",
      "MISOC TO: 203\n"
     ]
    }
   ],
   "source": [
    "success4197 = pd.read_csv(\"GasLib-4197-success.csv\")\n",
    "num_instances = 2859\n",
    "soc_success = success4197['misoc_gap'].dropna().size \n",
    "success4197 = pd.read_csv(\"GasLib-4197-success.csv\")\n",
    "total_success = success4197['misoc_gap'].size\n",
    "soc_success_to = total_success - soc_success \n",
    "soc_minlp_to = (pd.read_csv('GasLib-4197-time-limit.csv')['misoc_time'] > 999).sum() \n",
    "soc_minlp_success = (pd.read_csv('GasLib-4197-time-limit.csv')['misoc_time'] < 1000).sum() \n",
    "total_to = soc_success_to + soc_minlp_to \n",
    "\n",
    "print('MISOC success: {}'.format(soc_success + minlp_err + minlp_infeasible + soc_minlp_success))\n",
    "print('MISOC TO: {}'.format(total_to))\n",
    "assert(soc_success + minlp_err + minlp_infeasible + total_to + soc_minlp_success == num_instances)"
   ]
  },
  {
   "cell_type": "code",
   "execution_count": 95,
   "id": "cc48becf",
   "metadata": {},
   "outputs": [],
   "source": [
    "success_4197_all = pd.read_csv('GasLib-4197-success.csv').dropna(subset=['misoc_gap'])\n",
    "success_4197_all['misoc_gap'].size\n",
    "success_4197_all.to_csv('4197_all_success_times.csv',columns=['minlp_time', 'lp_time', 'misoc_time'], index=False)"
   ]
  },
  {
   "cell_type": "code",
   "execution_count": 105,
   "id": "a71b9d55",
   "metadata": {},
   "outputs": [
    {
     "name": "stdout",
     "output_type": "stream",
     "text": [
      "Both MISOC and MINLP timed out instances: 36\n"
     ]
    }
   ],
   "source": [
    "to4197 = pd.read_csv('GasLib-4197-time-limit.csv') \n",
    "both_to = to4197.loc[(to4197['minlp_time'] > 999) & (to4197['misoc_time'] > 999)]\n",
    "print('Both MISOC and MINLP timed out instances: {}'.format(both_to.shape[0]))"
   ]
  },
  {
   "cell_type": "code",
   "execution_count": 112,
   "id": "61aa004a",
   "metadata": {},
   "outputs": [
    {
     "name": "stdout",
     "output_type": "stream",
     "text": [
      " minimum: 0.0\n",
      " maximum: 0.5515677665461929\n",
      " mean: 0.00\n",
      " stddev: 0.01\n"
     ]
    }
   ],
   "source": [
    "success4197 = pd.read_csv('GasLib-4197-success.csv').dropna(subset=['misoc_gap'])\n",
    "PrintStatistics(success4197['misoc_gap'])"
   ]
  },
  {
   "cell_type": "code",
   "execution_count": 125,
   "id": "5436c44b",
   "metadata": {},
   "outputs": [
    {
     "name": "stdout",
     "output_type": "stream",
     "text": [
      "MISOC Opt: 2025, 1% MISOC Opt: 2058\n",
      " minimum: 0.0\n",
      " maximum: 0.5515677659023454\n",
      " mean: 0.00\n",
      " stddev: 0.01\n",
      "LP Opt: 2181, 1% LP Opt: 2225\n"
     ]
    }
   ],
   "source": [
    "success4197 = pd.read_csv('GasLib-4197-success.csv').dropna(subset=['misoc_gap'])\n",
    "misoc_opt = success4197.loc[success4197['misoc_gap'] == 0.0] \n",
    "misoc_opt_1 = success4197.loc[success4197['misoc_gap'] < 1.0] \n",
    "print('MISOC Opt: {}, 1% MISOC Opt: {}'.format(misoc_opt.shape[0], misoc_opt_1.shape[0]))\n",
    "PrintStatistics(success4197['lp_gap'])\n",
    "success4197 = pd.read_csv('GasLib-4197-success.csv')\n",
    "lp_opt = success4197.loc[success4197['lp_gap'] == 0.0] \n",
    "lp_opt_1 = success4197.loc[success4197['lp_gap'] < 1.0] \n",
    "print('LP Opt: {}, 1% LP Opt: {}'.format(lp_opt.shape[0], lp_opt_1.shape[0]))"
   ]
  },
  {
   "cell_type": "code",
   "execution_count": 115,
   "id": "f5e9baa1",
   "metadata": {},
   "outputs": [
    {
     "name": "stdout",
     "output_type": "stream",
     "text": [
      " minimum: 0.0\n",
      " maximum: 0.0\n",
      " mean: 0.00\n",
      " stddev: 0.00\n"
     ]
    }
   ],
   "source": [
    "success4197 = pd.read_csv('GasLib-4197-success.csv') \n",
    "soc_to = success4197[pd.isnull(success4197['misoc_gap'])]\n",
    "PrintStatistics(soc_to['lp_gap'])"
   ]
  },
  {
   "cell_type": "code",
   "execution_count": null,
   "id": "372219ae",
   "metadata": {},
   "outputs": [],
   "source": []
  }
 ],
 "metadata": {
  "kernelspec": {
   "display_name": "Python 3 (ipykernel)",
   "language": "python",
   "name": "python3"
  },
  "language_info": {
   "codemirror_mode": {
    "name": "ipython",
    "version": 3
   },
   "file_extension": ".py",
   "mimetype": "text/x-python",
   "name": "python",
   "nbconvert_exporter": "python",
   "pygments_lexer": "ipython3",
   "version": "3.9.12"
  }
 },
 "nbformat": 4,
 "nbformat_minor": 5
}
